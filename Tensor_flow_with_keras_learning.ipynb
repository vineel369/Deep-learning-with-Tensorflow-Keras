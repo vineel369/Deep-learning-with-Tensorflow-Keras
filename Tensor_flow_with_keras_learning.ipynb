{
 "cells": [
  {
   "cell_type": "code",
   "execution_count": 5,
   "metadata": {},
   "outputs": [
    {
     "data": {
      "text/plain": [
       "'1.12.0'"
      ]
     },
     "execution_count": 5,
     "metadata": {},
     "output_type": "execute_result"
    }
   ],
   "source": [
    "import tensorflow as tf # Imports the tensor flow library\n",
    "tf.__version__"
   ]
  },
  {
   "cell_type": "code",
   "execution_count": 3,
   "metadata": {},
   "outputs": [],
   "source": [
    "message = tf.constant('Welcome to the exciting world of Deep Neural Networks!') "
   ]
  },
  {
   "cell_type": "markdown",
   "metadata": {},
   "source": [
    "Since the message we want to print is a constant string, we use tf.constant:\n",
    "\n",
    "To execute the graph element, we need to define the **Session** using **with** and **run** the session using run:"
   ]
  },
  {
   "cell_type": "code",
   "execution_count": 19,
   "metadata": {},
   "outputs": [
    {
     "name": "stdout",
     "output_type": "stream",
     "text": [
      "Welcome to the exciting world of Deep Neural Networks!\n",
      "b'Welcome to the exciting world of Deep Neural Networks!'\n"
     ]
    }
   ],
   "source": [
    "with tf.Session() as sess:\n",
    "     print(sess.run(message).decode()) # with decode\n",
    "\n",
    "session = tf.Session()\n",
    "print(session.run(message))# with out decode"
   ]
  },
  {
   "cell_type": "code",
   "execution_count": 6,
   "metadata": {},
   "outputs": [],
   "source": [
    "mnist = tf.keras.datasets.mnist # 28 x 28 images of handwritten digits 0-9"
   ]
  },
  {
   "cell_type": "code",
   "execution_count": 7,
   "metadata": {},
   "outputs": [
    {
     "name": "stdout",
     "output_type": "stream",
     "text": [
      "Downloading data from https://storage.googleapis.com/tensorflow/tf-keras-datasets/mnist.npz\n",
      "11493376/11490434 [==============================] - 1s 0us/step\n"
     ]
    }
   ],
   "source": [
    "(X_train, y_train),(X_test,y_test) = mnist.load_data() # loading the mnist data"
   ]
  },
  {
   "cell_type": "code",
   "execution_count": 12,
   "metadata": {},
   "outputs": [
    {
     "data": {
      "image/png": "[encoded data removed]",
      "text/plain": [
       "<matplotlib.figure.Figure at 0xefb7128>"
      ]
     },
     "metadata": {},
     "output_type": "display_data"
    },
    {
     "name": "stdout",
     "output_type": "stream",
     "text": [
      "[[  0   0   0   0   0   0   0   0   0   0   0   0   0   0   0   0   0   0\n",
      "    0   0   0   0   0   0   0   0   0   0]\n",
      " [  0   0   0   0   0   0   0   0   0   0   0   0   0   0   0   0   0   0\n",
      "    0   0   0   0   0   0   0   0   0   0]\n",
      " [  0   0   0   0   0   0   0   0   0   0   0   0   0   0   0   0   0   0\n",
      "    0   0   0   0   0   0   0   0   0   0]\n",
      " [  0   0   0   0   0   0   0   0   0   0   0   0   0   0   0   0   0   0\n",
      "    0   0   0   0   0   0   0   0   0   0]\n",
      " [  0   0   0   0   0   0   0   0   0   0   0   0   0   0   0   0   0   0\n",
      "    0   0   0   0   0   0   0   0   0   0]\n",
      " [  0   0   0   0   0   0   0   0   0   0   0   0   3  18  18  18 126 136\n",
      "  175  26 166 255 247 127   0   0   0   0]\n",
      " [  0   0   0   0   0   0   0   0  30  36  94 154 170 253 253 253 253 253\n",
      "  225 172 253 242 195  64   0   0   0   0]\n",
      " [  0   0   0   0   0   0   0  49 238 253 253 253 253 253 253 253 253 251\n",
      "   93  82  82  56  39   0   0   0   0   0]\n",
      " [  0   0   0   0   0   0   0  18 219 253 253 253 253 253 198 182 247 241\n",
      "    0   0   0   0   0   0   0   0   0   0]\n",
      " [  0   0   0   0   0   0   0   0  80 156 107 253 253 205  11   0  43 154\n",
      "    0   0   0   0   0   0   0   0   0   0]\n",
      " [  0   0   0   0   0   0   0   0   0  14   1 154 253  90   0   0   0   0\n",
      "    0   0   0   0   0   0   0   0   0   0]\n",
      " [  0   0   0   0   0   0   0   0   0   0   0 139 253 190   2   0   0   0\n",
      "    0   0   0   0   0   0   0   0   0   0]\n",
      " [  0   0   0   0   0   0   0   0   0   0   0  11 190 253  70   0   0   0\n",
      "    0   0   0   0   0   0   0   0   0   0]\n",
      " [  0   0   0   0   0   0   0   0   0   0   0   0  35 241 225 160 108   1\n",
      "    0   0   0   0   0   0   0   0   0   0]\n",
      " [  0   0   0   0   0   0   0   0   0   0   0   0   0  81 240 253 253 119\n",
      "   25   0   0   0   0   0   0   0   0   0]\n",
      " [  0   0   0   0   0   0   0   0   0   0   0   0   0   0  45 186 253 253\n",
      "  150  27   0   0   0   0   0   0   0   0]\n",
      " [  0   0   0   0   0   0   0   0   0   0   0   0   0   0   0  16  93 252\n",
      "  253 187   0   0   0   0   0   0   0   0]\n",
      " [  0   0   0   0   0   0   0   0   0   0   0   0   0   0   0   0   0 249\n",
      "  253 249  64   0   0   0   0   0   0   0]\n",
      " [  0   0   0   0   0   0   0   0   0   0   0   0   0   0  46 130 183 253\n",
      "  253 207   2   0   0   0   0   0   0   0]\n",
      " [  0   0   0   0   0   0   0   0   0   0   0   0  39 148 229 253 253 253\n",
      "  250 182   0   0   0   0   0   0   0   0]\n",
      " [  0   0   0   0   0   0   0   0   0   0  24 114 221 253 253 253 253 201\n",
      "   78   0   0   0   0   0   0   0   0   0]\n",
      " [  0   0   0   0   0   0   0   0  23  66 213 253 253 253 253 198  81   2\n",
      "    0   0   0   0   0   0   0   0   0   0]\n",
      " [  0   0   0   0   0   0  18 171 219 253 253 253 253 195  80   9   0   0\n",
      "    0   0   0   0   0   0   0   0   0   0]\n",
      " [  0   0   0   0  55 172 226 253 253 253 253 244 133  11   0   0   0   0\n",
      "    0   0   0   0   0   0   0   0   0   0]\n",
      " [  0   0   0   0 136 253 253 253 212 135 132  16   0   0   0   0   0   0\n",
      "    0   0   0   0   0   0   0   0   0   0]\n",
      " [  0   0   0   0   0   0   0   0   0   0   0   0   0   0   0   0   0   0\n",
      "    0   0   0   0   0   0   0   0   0   0]\n",
      " [  0   0   0   0   0   0   0   0   0   0   0   0   0   0   0   0   0   0\n",
      "    0   0   0   0   0   0   0   0   0   0]\n",
      " [  0   0   0   0   0   0   0   0   0   0   0   0   0   0   0   0   0   0\n",
      "    0   0   0   0   0   0   0   0   0   0]]\n"
     ]
    }
   ],
   "source": [
    "import matplotlib.pyplot as plt\n",
    "plt.imshow(X_train[0], cmap = plt.cm.binary)\n",
    "plt.show()\n",
    "print(X_train[0])"
   ]
  },
  {
   "cell_type": "markdown",
   "metadata": {},
   "source": [
    "Pixel data is varying from 0 to 255 and it is better to normalize the pixel data using tf normalize option"
   ]
  },
  {
   "cell_type": "code",
   "execution_count": 14,
   "metadata": {},
   "outputs": [
    {
     "data": {
      "image/png": "[encoded data removed]",
      "text/plain": [
       "<matplotlib.figure.Figure at 0xf331390>"
      ]
     },
     "metadata": {},
     "output_type": "display_data"
    }
   ],
   "source": [
    "X_train = tf.keras.utils.normalize(X_train, axis=1)\n",
    "X_test = tf.keras.utils.normalize(X_test, axis=1)\n",
    "plt.imshow(X_train[0], cmap = plt.cm.binary)\n",
    "plt.show()"
   ]
  },
  {
   "cell_type": "markdown",
   "metadata": {},
   "source": [
    "Model building using keras sequential type of model and there are three types of models in keras API\n",
    "\n",
    "**The Sequential Model**\n",
    "    - Dead simple\n",
    "    - Only for single-input, single-output, sequential layer stacks\n",
    "    - Good for 70+% of use cases\n",
    "**The functional API**\n",
    "    - Like playing with Lego bricks\n",
    "    - Multi-input, multi-output, arbitrary static graph topologies\n",
    "    - Good for 95% of use cases\n",
    "**Model subclassing**\n",
    "    - Maximum flexibility\n",
    "    - Larger potential error surface"
   ]
  },
  {
   "cell_type": "code",
   "execution_count": 20,
   "metadata": {},
   "outputs": [],
   "source": [
    "model = tf.keras.models.Sequential()\n"
   ]
  },
  {
   "cell_type": "markdown",
   "metadata": {},
   "source": [
    "MNIST images are like 28 X 28 multi dimensional array. But, we want them to be a flatten (single column),which can be achieved either by using numpy,reshape or we can use one of the layers that's built into keras which is flattened"
   ]
  },
  {
   "cell_type": "code",
   "execution_count": 22,
   "metadata": {},
   "outputs": [],
   "source": [
    "model.add(tf.keras.layers.Flatten()) # Input layer\n",
    "model.add(tf.keras.layers.Dense(128, activation = tf.nn.relu)) # Hidden layer 1\n",
    "model.add(tf.keras.layers.Dense(128, activation = tf.nn.relu)) # Hidden layer 2\n",
    "model.add(tf.keras.layers.Dense(10, activation = tf.nn.softmax)) # Output layer"
   ]
  },
  {
   "cell_type": "markdown",
   "metadata": {},
   "source": [
    "*model.add(tf.keras.layers.Dense(128, activation = tf.nn.relu))*\n",
    "- It defines a hidden layer with 128 neurons/units, connected to the input layer or previous hidden layer that use relu activation function.\n",
    "\n",
    "*model.add(Dense(128, input_dim=8, init='uniform', activation='relu'))*\n",
    "- It defines the input layer as having 8 units\n",
    "- It defines a hidden layer with 128 neurons/units, connected to the input layer that use relu activation function.\n",
    "- It initializes all weights using a sample of unfirom random numbers"
   ]
  },
  {
   "cell_type": "markdown",
   "metadata": {},
   "source": [
    "Now that the model is defined, we can compile it.\n",
    "\n",
    "When compiling, we must specify some additional properties required when training the network. \n",
    "\n",
    "- Must specify the loss function to evaluate the weights\n",
    "- Must specify the optimizer, which will do search through different weights for the network\n",
    "- Optional metrics, would like to collect & report during training\n",
    "\n",
    "*Remember training a network means finding the best set of weights to make predictions for this problem.*\n",
    "\n",
    "In this case, we will use logarithmic loss, which for a Multi classification problem. For this example, we are considering “sparse_categorical_crossentropy“ as loss parameter. We will also use the efficient gradient descent algorithm “adam” for no other reason that it is an efficient default. Learn more about the Adam optimization algorithm in the paper [“Adam: A Method for Stochastic Optimization“.](http://arxiv.org/abs/1412.6980)"
   ]
  },
  {
   "cell_type": "code",
   "execution_count": 23,
   "metadata": {},
   "outputs": [],
   "source": [
    "model.compile(optimizer = 'adam',\n",
    "             loss = 'sparse_categorical_crossentropy',\n",
    "             metrics = ['accuracy'])"
   ]
  },
  {
   "cell_type": "markdown",
   "metadata": {},
   "source": [
    "We have defined our model and compiled it ready for computation. Now it is time to fit the model on mnist data\n",
    "\n",
    "- We can train or fit our model on our loaded data by calling the **fit()** function on the model.\n",
    "\n",
    "The training process will run for a fixed number of iterations through the dataset called **epochs**, that we must specify using the **nepochs** argument. We can also set the number of instances that are evaluated before a weight update in the network is performed, called the **batch size** and set using the **batch_size** argument.\n",
    "\n",
    "- Epoch is just a \"full pass\" through your entire training dataset. 3 epochs means it passed over your data set 3 times"
   ]
  },
  {
   "cell_type": "code",
   "execution_count": 24,
   "metadata": {},
   "outputs": [
    {
     "name": "stdout",
     "output_type": "stream",
     "text": [
      "Epoch 1/50\n",
      "60000/60000 [==============================] - 13s 209us/step - loss: 0.2176 - acc: 0.9348\n",
      "Epoch 2/50\n",
      "60000/60000 [==============================] - 12s 199us/step - loss: 0.0969 - acc: 0.9694\n",
      "Epoch 3/50\n",
      "60000/60000 [==============================] - 12s 202us/step - loss: 0.0685 - acc: 0.9783\n",
      "Epoch 4/50\n",
      "60000/60000 [==============================] - 12s 201us/step - loss: 0.0521 - acc: 0.9833\n",
      "Epoch 5/50\n",
      "60000/60000 [==============================] - 12s 201us/step - loss: 0.0407 - acc: 0.9865\n",
      "Epoch 6/50\n",
      "60000/60000 [==============================] - 12s 201us/step - loss: 0.0330 - acc: 0.98900s - loss: 0.0329 - acc\n",
      "Epoch 7/50\n",
      "60000/60000 [==============================] - 12s 200us/step - loss: 0.0272 - acc: 0.9911\n",
      "Epoch 8/50\n",
      "60000/60000 [==============================] - 12s 195us/step - loss: 0.0236 - acc: 0.9919\n",
      "Epoch 9/50\n",
      "60000/60000 [==============================] - 12s 193us/step - loss: 0.0199 - acc: 0.9932\n",
      "Epoch 10/50\n",
      "60000/60000 [==============================] - 12s 192us/step - loss: 0.0190 - acc: 0.9937\n",
      "Epoch 11/50\n",
      "60000/60000 [==============================] - 12s 193us/step - loss: 0.0164 - acc: 0.9943\n",
      "Epoch 12/50\n",
      "60000/60000 [==============================] - 12s 193us/step - loss: 0.0177 - acc: 0.9945\n",
      "Epoch 13/50\n",
      "60000/60000 [==============================] - 12s 193us/step - loss: 0.0137 - acc: 0.9955\n",
      "Epoch 14/50\n",
      "60000/60000 [==============================] - 12s 194us/step - loss: 0.0134 - acc: 0.9959\n",
      "Epoch 15/50\n",
      "60000/60000 [==============================] - 12s 196us/step - loss: 0.0132 - acc: 0.9962\n",
      "Epoch 16/50\n",
      "60000/60000 [==============================] - 12s 197us/step - loss: 0.0134 - acc: 0.9959\n",
      "Epoch 17/50\n",
      "60000/60000 [==============================] - 12s 195us/step - loss: 0.0118 - acc: 0.9964\n",
      "Epoch 18/50\n",
      "60000/60000 [==============================] - 12s 192us/step - loss: 0.0125 - acc: 0.9962\n",
      "Epoch 19/50\n",
      "60000/60000 [==============================] - 12s 196us/step - loss: 0.0110 - acc: 0.9969\n",
      "Epoch 20/50\n",
      "60000/60000 [==============================] - 12s 197us/step - loss: 0.0126 - acc: 0.9966\n",
      "Epoch 21/50\n",
      "60000/60000 [==============================] - 12s 197us/step - loss: 0.0102 - acc: 0.9970\n",
      "Epoch 22/50\n",
      "60000/60000 [==============================] - 12s 193us/step - loss: 0.0100 - acc: 0.9971\n",
      "Epoch 23/50\n",
      "60000/60000 [==============================] - 12s 193us/step - loss: 0.0116 - acc: 0.9965\n",
      "Epoch 24/50\n",
      "60000/60000 [==============================] - 12s 197us/step - loss: 0.0103 - acc: 0.9970\n",
      "Epoch 25/50\n",
      "60000/60000 [==============================] - 12s 197us/step - loss: 0.0099 - acc: 0.9972\n",
      "Epoch 26/50\n",
      "60000/60000 [==============================] - 12s 196us/step - loss: 0.0110 - acc: 0.9973\n",
      "Epoch 27/50\n",
      "60000/60000 [==============================] - 12s 194us/step - loss: 0.0076 - acc: 0.9977\n",
      "Epoch 28/50\n",
      "60000/60000 [==============================] - 12s 197us/step - loss: 0.0102 - acc: 0.9971\n",
      "Epoch 29/50\n",
      "60000/60000 [==============================] - 12s 196us/step - loss: 0.0100 - acc: 0.9975\n",
      "Epoch 30/50\n",
      "60000/60000 [==============================] - 12s 195us/step - loss: 0.0090 - acc: 0.9975\n",
      "Epoch 31/50\n",
      "60000/60000 [==============================] - 12s 198us/step - loss: 0.0093 - acc: 0.9976\n",
      "Epoch 32/50\n",
      "60000/60000 [==============================] - 12s 200us/step - loss: 0.0093 - acc: 0.9976\n",
      "Epoch 33/50\n",
      "60000/60000 [==============================] - 12s 200us/step - loss: 0.0088 - acc: 0.9981\n",
      "Epoch 34/50\n",
      "60000/60000 [==============================] - 12s 200us/step - loss: 0.0090 - acc: 0.9980\n",
      "Epoch 35/50\n",
      "60000/60000 [==============================] - 12s 197us/step - loss: 0.0103 - acc: 0.9977\n",
      "Epoch 36/50\n",
      "60000/60000 [==============================] - 12s 197us/step - loss: 0.0076 - acc: 0.9982\n",
      "Epoch 37/50\n",
      "60000/60000 [==============================] - 12s 198us/step - loss: 0.0095 - acc: 0.9977\n",
      "Epoch 38/50\n",
      "60000/60000 [==============================] - 12s 199us/step - loss: 0.0096 - acc: 0.9978\n",
      "Epoch 39/50\n",
      "60000/60000 [==============================] - 12s 196us/step - loss: 0.0077 - acc: 0.9980\n",
      "Epoch 40/50\n",
      "60000/60000 [==============================] - 12s 193us/step - loss: 0.0098 - acc: 0.9980\n",
      "Epoch 41/50\n",
      "60000/60000 [==============================] - 12s 197us/step - loss: 0.0093 - acc: 0.9978\n",
      "Epoch 42/50\n",
      "60000/60000 [==============================] - 12s 197us/step - loss: 0.0094 - acc: 0.9981\n",
      "Epoch 43/50\n",
      "60000/60000 [==============================] - 12s 196us/step - loss: 0.0091 - acc: 0.9982\n",
      "Epoch 44/50\n",
      "60000/60000 [==============================] - 12s 193us/step - loss: 0.0069 - acc: 0.9985\n",
      "Epoch 45/50\n",
      "60000/60000 [==============================] - 11s 191us/step - loss: 0.0096 - acc: 0.9981\n",
      "Epoch 46/50\n",
      "60000/60000 [==============================] - 11s 190us/step - loss: 0.0069 - acc: 0.9986\n",
      "Epoch 47/50\n",
      "60000/60000 [==============================] - 12s 192us/step - loss: 0.0086 - acc: 0.9981\n",
      "Epoch 48/50\n",
      "60000/60000 [==============================] - 11s 191us/step - loss: 0.0071 - acc: 0.9986\n",
      "Epoch 49/50\n",
      "60000/60000 [==============================] - 11s 191us/step - loss: 0.0080 - acc: 0.9982\n",
      "Epoch 50/50\n",
      "60000/60000 [==============================] - 12s 192us/step - loss: 0.0093 - acc: 0.9983\n"
     ]
    },
    {
     "data": {
      "text/plain": [
       "<tensorflow.python.keras.callbacks.History at 0xf381400>"
      ]
     },
     "execution_count": 24,
     "metadata": {},
     "output_type": "execute_result"
    }
   ],
   "source": [
    "model.fit(X_train,y_train,epochs = 50, batch_size = 10)"
   ]
  },
  {
   "cell_type": "markdown",
   "metadata": {},
   "source": [
    "We have trained our neural network on the train dataset and we can evaluate the performance of the network on the test dataset."
   ]
  },
  {
   "cell_type": "code",
   "execution_count": 25,
   "metadata": {},
   "outputs": [
    {
     "name": "stdout",
     "output_type": "stream",
     "text": [
      "10000/10000 [==============================] - 0s 40us/step\n",
      "0.2571990268678714 0.9755\n"
     ]
    }
   ],
   "source": [
    "val_loss, val_acc = model.evaluate(X_test,y_test)\n",
    "print(val_loss, val_acc)"
   ]
  },
  {
   "cell_type": "code",
   "execution_count": 30,
   "metadata": {},
   "outputs": [
    {
     "name": "stdout",
     "output_type": "stream",
     "text": [
      "[[0.0000000e+00 0.0000000e+00 0.0000000e+00 ... 1.0000000e+00\n",
      "  0.0000000e+00 4.7248140e-33]\n",
      " [0.0000000e+00 1.0149464e-29 1.0000000e+00 ... 0.0000000e+00\n",
      "  0.0000000e+00 0.0000000e+00]\n",
      " [0.0000000e+00 1.0000000e+00 2.2066167e-33 ... 4.9846245e-29\n",
      "  3.1889327e-24 3.8095756e-28]\n",
      " ...\n",
      " [0.0000000e+00 0.0000000e+00 0.0000000e+00 ... 0.0000000e+00\n",
      "  0.0000000e+00 0.0000000e+00]\n",
      " [0.0000000e+00 0.0000000e+00 0.0000000e+00 ... 0.0000000e+00\n",
      "  2.0714089e-31 0.0000000e+00]\n",
      " [0.0000000e+00 0.0000000e+00 0.0000000e+00 ... 0.0000000e+00\n",
      "  0.0000000e+00 0.0000000e+00]]\n"
     ]
    }
   ],
   "source": [
    "# Save the current model and load the model \n",
    "\n",
    "# model.save('number_reader_model')\n",
    "# new_model = tf.keras.models.load_model('number_reader_model')\n",
    "predictions = model.predict([X_test])   #predict always takes a list\n",
    "print(predictions)"
   ]
  },
  {
   "cell_type": "code",
   "execution_count": 31,
   "metadata": {},
   "outputs": [
    {
     "name": "stdout",
     "output_type": "stream",
     "text": [
      "7\n"
     ]
    }
   ],
   "source": [
    "import numpy as np\n",
    "print(np.argmax(predictions[0]))"
   ]
  },
  {
   "cell_type": "code",
   "execution_count": 34,
   "metadata": {},
   "outputs": [
    {
     "data": {
      "image/png": "[encoded data removed]",
      "text/plain": [
       "<matplotlib.figure.Figure at 0x5b99908>"
      ]
     },
     "metadata": {},
     "output_type": "display_data"
    }
   ],
   "source": [
    "plt.imshow(X_test[0], cmap = plt.cm.binary)\n",
    "plt.show()"
   ]
  },
  {
   "cell_type": "code",
   "execution_count": null,
   "metadata": {},
   "outputs": [],
   "source": []
  }
 ],
 "metadata": {
  "kernelspec": {
   "display_name": "Python 3",
   "language": "python",
   "name": "python3"
  },
  "language_info": {
   "codemirror_mode": {
    "name": "ipython",
    "version": 3
   },
   "file_extension": ".py",
   "mimetype": "text/x-python",
   "name": "python",
   "nbconvert_exporter": "python",
   "pygments_lexer": "ipython3",
   "version": "3.6.4"
  }
 },
 "nbformat": 4,
 "nbformat_minor": 2
}
